{
 "cells": [
  {
   "cell_type": "markdown",
   "id": "ae595d13",
   "metadata": {},
   "source": [
    "# Sample Motorcycle Data"
   ]
  },
  {
   "cell_type": "markdown",
   "id": "4e71d1fc",
   "metadata": {},
   "source": [
    "Below is a brief explanation and insight gathering from the sample data provided. A full breakdown and analysis would be much more extensive, but this shows the process of data processing, analysis, and arriving at maketing insights/strategy."
   ]
  },
  {
   "cell_type": "code",
   "execution_count": 1,
   "id": "42a28c13",
   "metadata": {},
   "outputs": [],
   "source": [
    "#import required packages\n",
    "import pandas as pd\n",
    "import numpy as np\n",
    "import matplotlib.pyplot as plt\n",
    "import scipy.stats as stats\n",
    "import seaborn as sns"
   ]
  },
  {
   "cell_type": "code",
   "execution_count": 2,
   "id": "edad77f4",
   "metadata": {},
   "outputs": [],
   "source": [
    "#allow value of \"NA\" (North America) to not be considered null\n",
    "na_values = [\"\", \n",
    "             \"#N/A\", \n",
    "             \"#N/A N/A\", \n",
    "             \"#NA\", \n",
    "             \"-1.#IND\", \n",
    "             \"-1.#QNAN\", \n",
    "             \"-NaN\", \n",
    "             \"-nan\", \n",
    "             \"1.#IND\", \n",
    "             \"1.#QNAN\", \n",
    "             \"<NA>\", \n",
    "             \"N/A\", \n",
    "#              \"NA\", \n",
    "             \"NULL\", \n",
    "             \"NaN\", \n",
    "             \"n/a\", \n",
    "             \"nan\", \n",
    "             \"null\"]"
   ]
  },
  {
   "cell_type": "code",
   "execution_count": 3,
   "id": "1c3255ff",
   "metadata": {},
   "outputs": [],
   "source": [
    "#import data\n",
    "df = pd.read_excel('C:/Users/Bogdan/Desktop/SampleSalesData1.xlsx', na_values=na_values, keep_default_na=False)"
   ]
  },
  {
   "cell_type": "code",
   "execution_count": 4,
   "id": "f84eecf0",
   "metadata": {},
   "outputs": [
    {
     "data": {
      "text/html": [
       "<div>\n",
       "<style scoped>\n",
       "    .dataframe tbody tr th:only-of-type {\n",
       "        vertical-align: middle;\n",
       "    }\n",
       "\n",
       "    .dataframe tbody tr th {\n",
       "        vertical-align: top;\n",
       "    }\n",
       "\n",
       "    .dataframe thead th {\n",
       "        text-align: right;\n",
       "    }\n",
       "</style>\n",
       "<table border=\"1\" class=\"dataframe\">\n",
       "  <thead>\n",
       "    <tr style=\"text-align: right;\">\n",
       "      <th></th>\n",
       "      <th>ORDERNUMBER</th>\n",
       "      <th>QUANTITYORDERED</th>\n",
       "      <th>PRICEEACH</th>\n",
       "      <th>ORDERLINENUMBER</th>\n",
       "      <th>SALES</th>\n",
       "      <th>ORDERDATE</th>\n",
       "      <th>STATUS</th>\n",
       "      <th>QTR_ID</th>\n",
       "      <th>MONTH_ID</th>\n",
       "      <th>YEAR_ID</th>\n",
       "      <th>...</th>\n",
       "      <th>ADDRESSLINE1</th>\n",
       "      <th>ADDRESSLINE2</th>\n",
       "      <th>CITY</th>\n",
       "      <th>STATE</th>\n",
       "      <th>POSTALCODE</th>\n",
       "      <th>COUNTRY</th>\n",
       "      <th>TERRITORY</th>\n",
       "      <th>CONTACTLASTNAME</th>\n",
       "      <th>CONTACTFIRSTNAME</th>\n",
       "      <th>DEALSIZE</th>\n",
       "    </tr>\n",
       "  </thead>\n",
       "  <tbody>\n",
       "    <tr>\n",
       "      <th>0</th>\n",
       "      <td>10107.0</td>\n",
       "      <td>30.0</td>\n",
       "      <td>95.70</td>\n",
       "      <td>2.0</td>\n",
       "      <td>2871.00</td>\n",
       "      <td>2003-02-24</td>\n",
       "      <td>Shipped</td>\n",
       "      <td>1.0</td>\n",
       "      <td>2.0</td>\n",
       "      <td>2003.0</td>\n",
       "      <td>...</td>\n",
       "      <td>897 Long Airport Avenue</td>\n",
       "      <td>NaN</td>\n",
       "      <td>NYC</td>\n",
       "      <td>NY</td>\n",
       "      <td>10022.0</td>\n",
       "      <td>USA</td>\n",
       "      <td>NA</td>\n",
       "      <td>Yu</td>\n",
       "      <td>Kwai</td>\n",
       "      <td>Small</td>\n",
       "    </tr>\n",
       "    <tr>\n",
       "      <th>1</th>\n",
       "      <td>10121.0</td>\n",
       "      <td>34.0</td>\n",
       "      <td>81.35</td>\n",
       "      <td>5.0</td>\n",
       "      <td>2765.90</td>\n",
       "      <td>2003-05-07</td>\n",
       "      <td>Shipped</td>\n",
       "      <td>2.0</td>\n",
       "      <td>5.0</td>\n",
       "      <td>2003.0</td>\n",
       "      <td>...</td>\n",
       "      <td>59 rue de l'Abbaye</td>\n",
       "      <td>NaN</td>\n",
       "      <td>Reims</td>\n",
       "      <td>NaN</td>\n",
       "      <td>51100.0</td>\n",
       "      <td>France</td>\n",
       "      <td>EMEA</td>\n",
       "      <td>Henriot</td>\n",
       "      <td>Paul</td>\n",
       "      <td>Small</td>\n",
       "    </tr>\n",
       "    <tr>\n",
       "      <th>2</th>\n",
       "      <td>10134.0</td>\n",
       "      <td>41.0</td>\n",
       "      <td>94.74</td>\n",
       "      <td>2.0</td>\n",
       "      <td>3884.34</td>\n",
       "      <td>2003-07-01</td>\n",
       "      <td>Shipped</td>\n",
       "      <td>3.0</td>\n",
       "      <td>7.0</td>\n",
       "      <td>2003.0</td>\n",
       "      <td>...</td>\n",
       "      <td>27 rue du Colonel Pierre Avia</td>\n",
       "      <td>NaN</td>\n",
       "      <td>Paris</td>\n",
       "      <td>NaN</td>\n",
       "      <td>75508.0</td>\n",
       "      <td>France</td>\n",
       "      <td>EMEA</td>\n",
       "      <td>Da Cunha</td>\n",
       "      <td>Daniel</td>\n",
       "      <td>Medium</td>\n",
       "    </tr>\n",
       "    <tr>\n",
       "      <th>3</th>\n",
       "      <td>10145.0</td>\n",
       "      <td>45.0</td>\n",
       "      <td>83.26</td>\n",
       "      <td>6.0</td>\n",
       "      <td>3746.70</td>\n",
       "      <td>2003-08-25</td>\n",
       "      <td>Shipped</td>\n",
       "      <td>3.0</td>\n",
       "      <td>8.0</td>\n",
       "      <td>2003.0</td>\n",
       "      <td>...</td>\n",
       "      <td>78934 Hillside Dr.</td>\n",
       "      <td>NaN</td>\n",
       "      <td>Pasadena</td>\n",
       "      <td>CA</td>\n",
       "      <td>90003.0</td>\n",
       "      <td>USA</td>\n",
       "      <td>NA</td>\n",
       "      <td>Young</td>\n",
       "      <td>Julie</td>\n",
       "      <td>Medium</td>\n",
       "    </tr>\n",
       "    <tr>\n",
       "      <th>4</th>\n",
       "      <td>10159.0</td>\n",
       "      <td>49.0</td>\n",
       "      <td>100.00</td>\n",
       "      <td>14.0</td>\n",
       "      <td>5205.27</td>\n",
       "      <td>2003-10-10</td>\n",
       "      <td>Shipped</td>\n",
       "      <td>4.0</td>\n",
       "      <td>10.0</td>\n",
       "      <td>2003.0</td>\n",
       "      <td>...</td>\n",
       "      <td>7734 Strong St.</td>\n",
       "      <td>NaN</td>\n",
       "      <td>San Francisco</td>\n",
       "      <td>CA</td>\n",
       "      <td>NaN</td>\n",
       "      <td>USA</td>\n",
       "      <td>NA</td>\n",
       "      <td>Brown</td>\n",
       "      <td>Julie</td>\n",
       "      <td>Medium</td>\n",
       "    </tr>\n",
       "  </tbody>\n",
       "</table>\n",
       "<p>5 rows × 25 columns</p>\n",
       "</div>"
      ],
      "text/plain": [
       "   ORDERNUMBER  QUANTITYORDERED  PRICEEACH  ORDERLINENUMBER    SALES  \\\n",
       "0      10107.0             30.0      95.70              2.0  2871.00   \n",
       "1      10121.0             34.0      81.35              5.0  2765.90   \n",
       "2      10134.0             41.0      94.74              2.0  3884.34   \n",
       "3      10145.0             45.0      83.26              6.0  3746.70   \n",
       "4      10159.0             49.0     100.00             14.0  5205.27   \n",
       "\n",
       "   ORDERDATE   STATUS  QTR_ID  MONTH_ID  YEAR_ID  ...  \\\n",
       "0 2003-02-24  Shipped     1.0       2.0   2003.0  ...   \n",
       "1 2003-05-07  Shipped     2.0       5.0   2003.0  ...   \n",
       "2 2003-07-01  Shipped     3.0       7.0   2003.0  ...   \n",
       "3 2003-08-25  Shipped     3.0       8.0   2003.0  ...   \n",
       "4 2003-10-10  Shipped     4.0      10.0   2003.0  ...   \n",
       "\n",
       "                    ADDRESSLINE1  ADDRESSLINE2           CITY STATE  \\\n",
       "0        897 Long Airport Avenue           NaN            NYC    NY   \n",
       "1             59 rue de l'Abbaye           NaN          Reims   NaN   \n",
       "2  27 rue du Colonel Pierre Avia           NaN          Paris   NaN   \n",
       "3             78934 Hillside Dr.           NaN       Pasadena    CA   \n",
       "4                7734 Strong St.           NaN  San Francisco    CA   \n",
       "\n",
       "  POSTALCODE COUNTRY TERRITORY CONTACTLASTNAME CONTACTFIRSTNAME DEALSIZE  \n",
       "0    10022.0     USA        NA              Yu             Kwai    Small  \n",
       "1    51100.0  France      EMEA         Henriot             Paul    Small  \n",
       "2    75508.0  France      EMEA        Da Cunha           Daniel   Medium  \n",
       "3    90003.0     USA        NA           Young            Julie   Medium  \n",
       "4        NaN     USA        NA           Brown            Julie   Medium  \n",
       "\n",
       "[5 rows x 25 columns]"
      ]
     },
     "execution_count": 4,
     "metadata": {},
     "output_type": "execute_result"
    }
   ],
   "source": [
    "#observe raw data\n",
    "df.head()"
   ]
  },
  {
   "cell_type": "markdown",
   "id": "c12cfb75",
   "metadata": {},
   "source": [
    "<br>\n",
    "The data frame contains 25 fields and seems to not be missing many values.\n",
    "<br><br>"
   ]
  },
  {
   "cell_type": "code",
   "execution_count": 5,
   "id": "9cda81e2",
   "metadata": {},
   "outputs": [
    {
     "name": "stdout",
     "output_type": "stream",
     "text": [
      "<class 'pandas.core.frame.DataFrame'>\n",
      "RangeIndex: 2823 entries, 0 to 2822\n",
      "Data columns (total 25 columns):\n",
      " #   Column            Non-Null Count  Dtype         \n",
      "---  ------            --------------  -----         \n",
      " 0   ORDERNUMBER       2823 non-null   float64       \n",
      " 1   QUANTITYORDERED   2823 non-null   float64       \n",
      " 2   PRICEEACH         2823 non-null   float64       \n",
      " 3   ORDERLINENUMBER   2823 non-null   float64       \n",
      " 4   SALES             2823 non-null   float64       \n",
      " 5   ORDERDATE         2823 non-null   datetime64[ns]\n",
      " 6   STATUS            2823 non-null   object        \n",
      " 7   QTR_ID            2823 non-null   float64       \n",
      " 8   MONTH_ID          2823 non-null   float64       \n",
      " 9   YEAR_ID           2823 non-null   float64       \n",
      " 10  PRODUCTLINE       2823 non-null   object        \n",
      " 11  MSRP              2823 non-null   float64       \n",
      " 12  PRODUCTCODE       2823 non-null   object        \n",
      " 13  CUSTOMERNAME      2823 non-null   object        \n",
      " 14  PHONE             2823 non-null   object        \n",
      " 15  ADDRESSLINE1      2823 non-null   object        \n",
      " 16  ADDRESSLINE2      302 non-null    object        \n",
      " 17  CITY              2823 non-null   object        \n",
      " 18  STATE             1337 non-null   object        \n",
      " 19  POSTALCODE        2747 non-null   object        \n",
      " 20  COUNTRY           2823 non-null   object        \n",
      " 21  TERRITORY         2823 non-null   object        \n",
      " 22  CONTACTLASTNAME   2823 non-null   object        \n",
      " 23  CONTACTFIRSTNAME  2823 non-null   object        \n",
      " 24  DEALSIZE          2823 non-null   object        \n",
      "dtypes: datetime64[ns](1), float64(9), object(15)\n",
      "memory usage: 551.5+ KB\n"
     ]
    }
   ],
   "source": [
    "#analyze data types and missing values\n",
    "df.info()"
   ]
  },
  {
   "cell_type": "markdown",
   "id": "09b8216a",
   "metadata": {},
   "source": [
    "<br>\n",
    "There are 2823 records in total, but some fields are missing data. ADDRESSLINE2 only has 302 entries, but this should make sense since the line is usually reserved for an APT, Suite, etc. Likewise, not every country is divided into States or has a Postal Code necessarily, depending on the country's laws. Let's check this below.\n",
    "<br>\n",
    "<br>"
   ]
  },
  {
   "cell_type": "markdown",
   "id": "5bb46975",
   "metadata": {},
   "source": [
    "### Address, State, Country"
   ]
  },
  {
   "cell_type": "code",
   "execution_count": 6,
   "id": "82aebd6a",
   "metadata": {},
   "outputs": [
    {
     "data": {
      "text/plain": [
       "Level 3        55\n",
       "Suite 400      48\n",
       "Level 6        46\n",
       "Level 15       46\n",
       "2nd Floor      36\n",
       "Suite 101      25\n",
       "Suite 750      20\n",
       "Floor No. 4    16\n",
       "Suite 200      10\n",
       "Name: ADDRESSLINE2, dtype: int64"
      ]
     },
     "execution_count": 6,
     "metadata": {},
     "output_type": "execute_result"
    }
   ],
   "source": [
    "df.ADDRESSLINE2.value_counts()"
   ]
  },
  {
   "cell_type": "markdown",
   "id": "6175f21a",
   "metadata": {},
   "source": [
    "<br>There are only 9 distinct values that are used for ADDRESSLINE2. These are for repeat customers of different orders.<br><br>"
   ]
  },
  {
   "cell_type": "code",
   "execution_count": 7,
   "id": "e1a6efe7",
   "metadata": {},
   "outputs": [
    {
     "data": {
      "text/html": [
       "<div>\n",
       "<style scoped>\n",
       "    .dataframe tbody tr th:only-of-type {\n",
       "        vertical-align: middle;\n",
       "    }\n",
       "\n",
       "    .dataframe tbody tr th {\n",
       "        vertical-align: top;\n",
       "    }\n",
       "\n",
       "    .dataframe thead th {\n",
       "        text-align: right;\n",
       "    }\n",
       "</style>\n",
       "<table border=\"1\" class=\"dataframe\">\n",
       "  <thead>\n",
       "    <tr style=\"text-align: right;\">\n",
       "      <th>COUNTRY</th>\n",
       "      <th>Australia</th>\n",
       "      <th>Canada</th>\n",
       "      <th>Japan</th>\n",
       "      <th>UK</th>\n",
       "      <th>USA</th>\n",
       "    </tr>\n",
       "    <tr>\n",
       "      <th>STATE</th>\n",
       "      <th></th>\n",
       "      <th></th>\n",
       "      <th></th>\n",
       "      <th></th>\n",
       "      <th></th>\n",
       "    </tr>\n",
       "  </thead>\n",
       "  <tbody>\n",
       "    <tr>\n",
       "      <th>BC</th>\n",
       "      <td>0</td>\n",
       "      <td>48</td>\n",
       "      <td>0</td>\n",
       "      <td>0</td>\n",
       "      <td>0</td>\n",
       "    </tr>\n",
       "    <tr>\n",
       "      <th>CA</th>\n",
       "      <td>0</td>\n",
       "      <td>0</td>\n",
       "      <td>0</td>\n",
       "      <td>0</td>\n",
       "      <td>416</td>\n",
       "    </tr>\n",
       "    <tr>\n",
       "      <th>CT</th>\n",
       "      <td>0</td>\n",
       "      <td>0</td>\n",
       "      <td>0</td>\n",
       "      <td>0</td>\n",
       "      <td>61</td>\n",
       "    </tr>\n",
       "    <tr>\n",
       "      <th>Isle of Wight</th>\n",
       "      <td>0</td>\n",
       "      <td>0</td>\n",
       "      <td>0</td>\n",
       "      <td>26</td>\n",
       "      <td>0</td>\n",
       "    </tr>\n",
       "    <tr>\n",
       "      <th>MA</th>\n",
       "      <td>0</td>\n",
       "      <td>0</td>\n",
       "      <td>0</td>\n",
       "      <td>0</td>\n",
       "      <td>190</td>\n",
       "    </tr>\n",
       "    <tr>\n",
       "      <th>NH</th>\n",
       "      <td>0</td>\n",
       "      <td>0</td>\n",
       "      <td>0</td>\n",
       "      <td>0</td>\n",
       "      <td>34</td>\n",
       "    </tr>\n",
       "    <tr>\n",
       "      <th>NJ</th>\n",
       "      <td>0</td>\n",
       "      <td>0</td>\n",
       "      <td>0</td>\n",
       "      <td>0</td>\n",
       "      <td>21</td>\n",
       "    </tr>\n",
       "    <tr>\n",
       "      <th>NSW</th>\n",
       "      <td>92</td>\n",
       "      <td>0</td>\n",
       "      <td>0</td>\n",
       "      <td>0</td>\n",
       "      <td>0</td>\n",
       "    </tr>\n",
       "    <tr>\n",
       "      <th>NV</th>\n",
       "      <td>0</td>\n",
       "      <td>0</td>\n",
       "      <td>0</td>\n",
       "      <td>0</td>\n",
       "      <td>29</td>\n",
       "    </tr>\n",
       "    <tr>\n",
       "      <th>NY</th>\n",
       "      <td>0</td>\n",
       "      <td>0</td>\n",
       "      <td>0</td>\n",
       "      <td>0</td>\n",
       "      <td>178</td>\n",
       "    </tr>\n",
       "    <tr>\n",
       "      <th>Osaka</th>\n",
       "      <td>0</td>\n",
       "      <td>0</td>\n",
       "      <td>20</td>\n",
       "      <td>0</td>\n",
       "      <td>0</td>\n",
       "    </tr>\n",
       "    <tr>\n",
       "      <th>PA</th>\n",
       "      <td>0</td>\n",
       "      <td>0</td>\n",
       "      <td>0</td>\n",
       "      <td>0</td>\n",
       "      <td>75</td>\n",
       "    </tr>\n",
       "    <tr>\n",
       "      <th>Quebec</th>\n",
       "      <td>0</td>\n",
       "      <td>22</td>\n",
       "      <td>0</td>\n",
       "      <td>0</td>\n",
       "      <td>0</td>\n",
       "    </tr>\n",
       "    <tr>\n",
       "      <th>Queensland</th>\n",
       "      <td>15</td>\n",
       "      <td>0</td>\n",
       "      <td>0</td>\n",
       "      <td>0</td>\n",
       "      <td>0</td>\n",
       "    </tr>\n",
       "    <tr>\n",
       "      <th>Tokyo</th>\n",
       "      <td>0</td>\n",
       "      <td>0</td>\n",
       "      <td>32</td>\n",
       "      <td>0</td>\n",
       "      <td>0</td>\n",
       "    </tr>\n",
       "    <tr>\n",
       "      <th>Victoria</th>\n",
       "      <td>78</td>\n",
       "      <td>0</td>\n",
       "      <td>0</td>\n",
       "      <td>0</td>\n",
       "      <td>0</td>\n",
       "    </tr>\n",
       "  </tbody>\n",
       "</table>\n",
       "</div>"
      ],
      "text/plain": [
       "COUNTRY        Australia  Canada  Japan  UK  USA\n",
       "STATE                                           \n",
       "BC                     0      48      0   0    0\n",
       "CA                     0       0      0   0  416\n",
       "CT                     0       0      0   0   61\n",
       "Isle of Wight          0       0      0  26    0\n",
       "MA                     0       0      0   0  190\n",
       "NH                     0       0      0   0   34\n",
       "NJ                     0       0      0   0   21\n",
       "NSW                   92       0      0   0    0\n",
       "NV                     0       0      0   0   29\n",
       "NY                     0       0      0   0  178\n",
       "Osaka                  0       0     20   0    0\n",
       "PA                     0       0      0   0   75\n",
       "Quebec                 0      22      0   0    0\n",
       "Queensland            15       0      0   0    0\n",
       "Tokyo                  0       0     32   0    0\n",
       "Victoria              78       0      0   0    0"
      ]
     },
     "execution_count": 7,
     "metadata": {},
     "output_type": "execute_result"
    }
   ],
   "source": [
    "pd.crosstab(df.STATE, df.COUNTRY)"
   ]
  },
  {
   "cell_type": "markdown",
   "id": "79325fe2",
   "metadata": {},
   "source": [
    "<br>\n",
    "We can observe that most of the states are found in the USA, as expected. The other countries listed only have about 1-3 states each, so it is expected that many entries will be missing this field. \n",
    "\n",
    "Next, let's investigate some of the parameters of interest.\n",
    "<br>\n",
    "<br>"
   ]
  },
  {
   "cell_type": "markdown",
   "id": "32f930c8",
   "metadata": {},
   "source": [
    "### Quanity Ordered"
   ]
  },
  {
   "cell_type": "code",
   "execution_count": 8,
   "id": "f99c35ce",
   "metadata": {},
   "outputs": [
    {
     "data": {
      "text/plain": [
       "count    2823.000000\n",
       "mean       35.092809\n",
       "std         9.741443\n",
       "min         6.000000\n",
       "25%        27.000000\n",
       "50%        35.000000\n",
       "75%        43.000000\n",
       "max        97.000000\n",
       "Name: QUANTITYORDERED, dtype: float64"
      ]
     },
     "execution_count": 8,
     "metadata": {},
     "output_type": "execute_result"
    }
   ],
   "source": [
    "df.QUANTITYORDERED.describe()"
   ]
  },
  {
   "cell_type": "code",
   "execution_count": 9,
   "id": "3d90566f",
   "metadata": {},
   "outputs": [
    {
     "data": {
      "image/png": "[encoded data removed]",
      "text/plain": [
       "<Figure size 720x432 with 1 Axes>"
      ]
     },
     "metadata": {
      "needs_background": "light"
     },
     "output_type": "display_data"
    }
   ],
   "source": [
    "figure = plt.figure(figsize=(10, 6))\n",
    "\n",
    "axes = figure.add_subplot(1, 1, 1)\n",
    "axes.hist(df.QUANTITYORDERED, color=\"darkslategray\")\n",
    "axes.set_title(\"Distribution of Order Quantity\")\n",
    "axes.set_xlabel(\"Quantity Ordered\")\n",
    "axes.set_ylabel(\"Count\")\n",
    "\n",
    "plt.show()\n",
    "\n",
    "plt.close()"
   ]
  },
  {
   "cell_type": "markdown",
   "id": "f1ad5104",
   "metadata": {},
   "source": [
    "<br>\n",
    "We can observe that among the 2823 orders, the average quantity ordered is about 35, with a very simial median. The biggest order was 97 while the smallest was 6. \n",
    "\n",
    "Next we will look at the price per item sold.\n",
    "<br>\n",
    "<br>"
   ]
  },
  {
   "cell_type": "markdown",
   "id": "7d8f4e12",
   "metadata": {},
   "source": [
    "### Price per item"
   ]
  },
  {
   "cell_type": "code",
   "execution_count": 10,
   "id": "9d6987ab",
   "metadata": {},
   "outputs": [
    {
     "data": {
      "text/plain": [
       "count    2823.000000\n",
       "mean       83.658544\n",
       "std        20.174277\n",
       "min        26.880000\n",
       "25%        68.860000\n",
       "50%        95.700000\n",
       "75%       100.000000\n",
       "max       100.000000\n",
       "Name: PRICEEACH, dtype: float64"
      ]
     },
     "execution_count": 10,
     "metadata": {},
     "output_type": "execute_result"
    }
   ],
   "source": [
    "df.PRICEEACH.describe()"
   ]
  },
  {
   "cell_type": "code",
   "execution_count": 11,
   "id": "0ce201fc",
   "metadata": {},
   "outputs": [
    {
     "data": {
      "image/png": "[encoded data removed]",
      "text/plain": [
       "<Figure size 720x432 with 1 Axes>"
      ]
     },
     "metadata": {
      "needs_background": "light"
     },
     "output_type": "display_data"
    }
   ],
   "source": [
    "figure = plt.figure(figsize=(10, 6))\n",
    "\n",
    "axes = figure.add_subplot(1, 1, 1)\n",
    "axes.hist(df.PRICEEACH, color=\"darkslategray\")\n",
    "axes.set_title(\"Distribution of Prices\")\n",
    "axes.set_xlabel(\"Price of Each\")\n",
    "axes.set_ylabel(\"Count\")\n",
    "\n",
    "plt.show()\n",
    "plt.close()"
   ]
  },
  {
   "cell_type": "markdown",
   "id": "3c50826b",
   "metadata": {},
   "source": [
    "<br>\n",
    "We observe a massive skew towards the higher end of the prices. According to the statistics, half of the items sold have a price of at least \\$95.70. The average price is $83.65. We should investigate later this drastic difference.\n",
    "\n",
    "Next, we will look at the main field of importance - Sales.\n",
    "<br>\n",
    "<br>"
   ]
  },
  {
   "cell_type": "markdown",
   "id": "70eb359a",
   "metadata": {},
   "source": [
    "### Sales"
   ]
  },
  {
   "cell_type": "code",
   "execution_count": 12,
   "id": "649cd940",
   "metadata": {},
   "outputs": [
    {
     "data": {
      "text/plain": [
       "count     2823.000000\n",
       "mean      3553.889072\n",
       "std       1841.865106\n",
       "min        482.130000\n",
       "25%       2203.430000\n",
       "50%       3184.800000\n",
       "75%       4508.000000\n",
       "max      14082.800000\n",
       "Name: SALES, dtype: float64"
      ]
     },
     "execution_count": 12,
     "metadata": {},
     "output_type": "execute_result"
    }
   ],
   "source": [
    "df.SALES.describe()"
   ]
  },
  {
   "cell_type": "code",
   "execution_count": 13,
   "id": "c315cd92",
   "metadata": {},
   "outputs": [
    {
     "data": {
      "image/png": "[encoded data removed]",
      "text/plain": [
       "<Figure size 720x432 with 1 Axes>"
      ]
     },
     "metadata": {
      "needs_background": "light"
     },
     "output_type": "display_data"
    }
   ],
   "source": [
    "figure = plt.figure(figsize=(10, 6))\n",
    "\n",
    "axes = figure.add_subplot(1, 1, 1)\n",
    "axes.hist(df.SALES, color=\"darkslategray\")\n",
    "axes.set_title(\"Distribution of Sales\")\n",
    "axes.set_xlabel(\"Sales\")\n",
    "axes.set_ylabel(\"Count\")\n",
    "\n",
    "plt.show()\n",
    "plt.close()"
   ]
  },
  {
   "cell_type": "markdown",
   "id": "65588e17",
   "metadata": {},
   "source": [
    "<br>\n",
    "From the chart, the average sale is around \\$3500. We observe a left skewed histogram which indicates that the median sale is smaller than the mean, as evidenced by the statistics. \n",
    "\n",
    "Next, let's get some insight into the status of orders.\n",
    "<br>\n",
    "<br>"
   ]
  },
  {
   "cell_type": "markdown",
   "id": "ee9dae39",
   "metadata": {},
   "source": [
    "### Status and Status by Country"
   ]
  },
  {
   "cell_type": "code",
   "execution_count": 14,
   "id": "2171ecd4",
   "metadata": {},
   "outputs": [
    {
     "data": {
      "text/plain": [
       "Shipped       2617\n",
       "Cancelled       60\n",
       "Resolved        47\n",
       "On Hold         44\n",
       "In Process      41\n",
       "Disputed        14\n",
       "Name: STATUS, dtype: int64"
      ]
     },
     "execution_count": 14,
     "metadata": {},
     "output_type": "execute_result"
    }
   ],
   "source": [
    "df.STATUS.value_counts()"
   ]
  },
  {
   "cell_type": "code",
   "execution_count": 15,
   "id": "38c0a5ab",
   "metadata": {},
   "outputs": [
    {
     "data": {
      "text/html": [
       "<div>\n",
       "<style scoped>\n",
       "    .dataframe tbody tr th:only-of-type {\n",
       "        vertical-align: middle;\n",
       "    }\n",
       "\n",
       "    .dataframe tbody tr th {\n",
       "        vertical-align: top;\n",
       "    }\n",
       "\n",
       "    .dataframe thead th {\n",
       "        text-align: right;\n",
       "    }\n",
       "</style>\n",
       "<table border=\"1\" class=\"dataframe\">\n",
       "  <thead>\n",
       "    <tr style=\"text-align: right;\">\n",
       "      <th>COUNTRY</th>\n",
       "      <th>Australia</th>\n",
       "      <th>Austria</th>\n",
       "      <th>Belgium</th>\n",
       "      <th>Canada</th>\n",
       "      <th>Denmark</th>\n",
       "      <th>Finland</th>\n",
       "      <th>France</th>\n",
       "      <th>Germany</th>\n",
       "      <th>Ireland</th>\n",
       "      <th>Italy</th>\n",
       "      <th>Japan</th>\n",
       "      <th>Norway</th>\n",
       "      <th>Philippines</th>\n",
       "      <th>Singapore</th>\n",
       "      <th>Spain</th>\n",
       "      <th>Sweden</th>\n",
       "      <th>Switzerland</th>\n",
       "      <th>UK</th>\n",
       "      <th>USA</th>\n",
       "    </tr>\n",
       "    <tr>\n",
       "      <th>STATUS</th>\n",
       "      <th></th>\n",
       "      <th></th>\n",
       "      <th></th>\n",
       "      <th></th>\n",
       "      <th></th>\n",
       "      <th></th>\n",
       "      <th></th>\n",
       "      <th></th>\n",
       "      <th></th>\n",
       "      <th></th>\n",
       "      <th></th>\n",
       "      <th></th>\n",
       "      <th></th>\n",
       "      <th></th>\n",
       "      <th></th>\n",
       "      <th></th>\n",
       "      <th></th>\n",
       "      <th></th>\n",
       "      <th></th>\n",
       "    </tr>\n",
       "  </thead>\n",
       "  <tbody>\n",
       "    <tr>\n",
       "      <th>Cancelled</th>\n",
       "      <td>0</td>\n",
       "      <td>0</td>\n",
       "      <td>0</td>\n",
       "      <td>0</td>\n",
       "      <td>0</td>\n",
       "      <td>0</td>\n",
       "      <td>0</td>\n",
       "      <td>0</td>\n",
       "      <td>0</td>\n",
       "      <td>0</td>\n",
       "      <td>0</td>\n",
       "      <td>0</td>\n",
       "      <td>0</td>\n",
       "      <td>0</td>\n",
       "      <td>16</td>\n",
       "      <td>16</td>\n",
       "      <td>0</td>\n",
       "      <td>14</td>\n",
       "      <td>14</td>\n",
       "    </tr>\n",
       "    <tr>\n",
       "      <th>Disputed</th>\n",
       "      <td>5</td>\n",
       "      <td>0</td>\n",
       "      <td>0</td>\n",
       "      <td>0</td>\n",
       "      <td>3</td>\n",
       "      <td>0</td>\n",
       "      <td>0</td>\n",
       "      <td>0</td>\n",
       "      <td>0</td>\n",
       "      <td>0</td>\n",
       "      <td>0</td>\n",
       "      <td>0</td>\n",
       "      <td>0</td>\n",
       "      <td>0</td>\n",
       "      <td>6</td>\n",
       "      <td>0</td>\n",
       "      <td>0</td>\n",
       "      <td>0</td>\n",
       "      <td>0</td>\n",
       "    </tr>\n",
       "    <tr>\n",
       "      <th>In Process</th>\n",
       "      <td>13</td>\n",
       "      <td>0</td>\n",
       "      <td>5</td>\n",
       "      <td>0</td>\n",
       "      <td>0</td>\n",
       "      <td>0</td>\n",
       "      <td>13</td>\n",
       "      <td>0</td>\n",
       "      <td>0</td>\n",
       "      <td>0</td>\n",
       "      <td>0</td>\n",
       "      <td>0</td>\n",
       "      <td>0</td>\n",
       "      <td>0</td>\n",
       "      <td>6</td>\n",
       "      <td>0</td>\n",
       "      <td>0</td>\n",
       "      <td>0</td>\n",
       "      <td>4</td>\n",
       "    </tr>\n",
       "    <tr>\n",
       "      <th>On Hold</th>\n",
       "      <td>0</td>\n",
       "      <td>0</td>\n",
       "      <td>0</td>\n",
       "      <td>0</td>\n",
       "      <td>0</td>\n",
       "      <td>0</td>\n",
       "      <td>0</td>\n",
       "      <td>0</td>\n",
       "      <td>0</td>\n",
       "      <td>0</td>\n",
       "      <td>0</td>\n",
       "      <td>0</td>\n",
       "      <td>0</td>\n",
       "      <td>0</td>\n",
       "      <td>0</td>\n",
       "      <td>6</td>\n",
       "      <td>0</td>\n",
       "      <td>0</td>\n",
       "      <td>38</td>\n",
       "    </tr>\n",
       "    <tr>\n",
       "      <th>Resolved</th>\n",
       "      <td>0</td>\n",
       "      <td>8</td>\n",
       "      <td>0</td>\n",
       "      <td>0</td>\n",
       "      <td>8</td>\n",
       "      <td>0</td>\n",
       "      <td>0</td>\n",
       "      <td>0</td>\n",
       "      <td>0</td>\n",
       "      <td>0</td>\n",
       "      <td>0</td>\n",
       "      <td>0</td>\n",
       "      <td>0</td>\n",
       "      <td>0</td>\n",
       "      <td>18</td>\n",
       "      <td>0</td>\n",
       "      <td>0</td>\n",
       "      <td>0</td>\n",
       "      <td>13</td>\n",
       "    </tr>\n",
       "    <tr>\n",
       "      <th>Shipped</th>\n",
       "      <td>167</td>\n",
       "      <td>47</td>\n",
       "      <td>28</td>\n",
       "      <td>70</td>\n",
       "      <td>52</td>\n",
       "      <td>92</td>\n",
       "      <td>301</td>\n",
       "      <td>62</td>\n",
       "      <td>16</td>\n",
       "      <td>113</td>\n",
       "      <td>52</td>\n",
       "      <td>85</td>\n",
       "      <td>26</td>\n",
       "      <td>79</td>\n",
       "      <td>296</td>\n",
       "      <td>35</td>\n",
       "      <td>31</td>\n",
       "      <td>130</td>\n",
       "      <td>935</td>\n",
       "    </tr>\n",
       "  </tbody>\n",
       "</table>\n",
       "</div>"
      ],
      "text/plain": [
       "COUNTRY     Australia  Austria  Belgium  Canada  Denmark  Finland  France  \\\n",
       "STATUS                                                                      \n",
       "Cancelled           0        0        0       0        0        0       0   \n",
       "Disputed            5        0        0       0        3        0       0   \n",
       "In Process         13        0        5       0        0        0      13   \n",
       "On Hold             0        0        0       0        0        0       0   \n",
       "Resolved            0        8        0       0        8        0       0   \n",
       "Shipped           167       47       28      70       52       92     301   \n",
       "\n",
       "COUNTRY     Germany  Ireland  Italy  Japan  Norway  Philippines  Singapore  \\\n",
       "STATUS                                                                       \n",
       "Cancelled         0        0      0      0       0            0          0   \n",
       "Disputed          0        0      0      0       0            0          0   \n",
       "In Process        0        0      0      0       0            0          0   \n",
       "On Hold           0        0      0      0       0            0          0   \n",
       "Resolved          0        0      0      0       0            0          0   \n",
       "Shipped          62       16    113     52      85           26         79   \n",
       "\n",
       "COUNTRY     Spain  Sweden  Switzerland   UK  USA  \n",
       "STATUS                                            \n",
       "Cancelled      16      16            0   14   14  \n",
       "Disputed        6       0            0    0    0  \n",
       "In Process      6       0            0    0    4  \n",
       "On Hold         0       6            0    0   38  \n",
       "Resolved       18       0            0    0   13  \n",
       "Shipped       296      35           31  130  935  "
      ]
     },
     "execution_count": 15,
     "metadata": {},
     "output_type": "execute_result"
    }
   ],
   "source": [
    "pd.crosstab(df.STATUS, df.COUNTRY)"
   ]
  },
  {
   "cell_type": "markdown",
   "id": "bb3b9b24",
   "metadata": {},
   "source": [
    "<br>\n",
    "We observe that the company has great success in shipping orders. The concerning data that comes out is the 60 cancelled orders and the 44 on hold. When we look at the status by country, it is clear that the only 4 countries cancelling orders are Sweden, Switzerland, UK, and USA. Similarly, most of the orders that are on hold belong to the USA. It would be a good idea to alert the team of this trend so that a proactive approach can be taken to mitigate future cancellations or holds. \n",
    "\n",
    "Our next interest is to assess any seasonality trends.\n",
    "<br>\n",
    "<br>"
   ]
  },
  {
   "cell_type": "markdown",
   "id": "e94b38be",
   "metadata": {},
   "source": [
    "### Seasonality <br>"
   ]
  },
  {
   "cell_type": "code",
   "execution_count": 16,
   "id": "629aa117",
   "metadata": {},
   "outputs": [
    {
     "data": {
      "text/html": [
       "<div>\n",
       "<style scoped>\n",
       "    .dataframe tbody tr th:only-of-type {\n",
       "        vertical-align: middle;\n",
       "    }\n",
       "\n",
       "    .dataframe tbody tr th {\n",
       "        vertical-align: top;\n",
       "    }\n",
       "\n",
       "    .dataframe thead th {\n",
       "        text-align: right;\n",
       "    }\n",
       "</style>\n",
       "<table border=\"1\" class=\"dataframe\">\n",
       "  <thead>\n",
       "    <tr style=\"text-align: right;\">\n",
       "      <th>QTR_ID</th>\n",
       "      <th>1.0</th>\n",
       "      <th>2.0</th>\n",
       "      <th>3.0</th>\n",
       "      <th>4.0</th>\n",
       "    </tr>\n",
       "    <tr>\n",
       "      <th>YEAR_ID</th>\n",
       "      <th></th>\n",
       "      <th></th>\n",
       "      <th></th>\n",
       "      <th></th>\n",
       "    </tr>\n",
       "  </thead>\n",
       "  <tbody>\n",
       "    <tr>\n",
       "      <th>2003.0</th>\n",
       "      <td>130</td>\n",
       "      <td>162</td>\n",
       "      <td>184</td>\n",
       "      <td>524</td>\n",
       "    </tr>\n",
       "    <tr>\n",
       "      <th>2004.0</th>\n",
       "      <td>233</td>\n",
       "      <td>223</td>\n",
       "      <td>319</td>\n",
       "      <td>570</td>\n",
       "    </tr>\n",
       "    <tr>\n",
       "      <th>2005.0</th>\n",
       "      <td>302</td>\n",
       "      <td>176</td>\n",
       "      <td>0</td>\n",
       "      <td>0</td>\n",
       "    </tr>\n",
       "  </tbody>\n",
       "</table>\n",
       "</div>"
      ],
      "text/plain": [
       "QTR_ID   1.0  2.0  3.0  4.0\n",
       "YEAR_ID                    \n",
       "2003.0   130  162  184  524\n",
       "2004.0   233  223  319  570\n",
       "2005.0   302  176    0    0"
      ]
     },
     "execution_count": 16,
     "metadata": {},
     "output_type": "execute_result"
    }
   ],
   "source": [
    "pd.crosstab(df.YEAR_ID, df.QTR_ID)"
   ]
  },
  {
   "cell_type": "code",
   "execution_count": 17,
   "id": "a638bf5c",
   "metadata": {},
   "outputs": [
    {
     "data": {
      "image/png": "[encoded data removed]",
      "text/plain": [
       "<Figure size 720x432 with 1 Axes>"
      ]
     },
     "metadata": {
      "needs_background": "light"
     },
     "output_type": "display_data"
    }
   ],
   "source": [
    "data = df.QTR_ID.value_counts(normalize=True).sort_index()\n",
    "x = range( len( data))\n",
    "width = 1/1.5\n",
    "\n",
    "figure = plt.figure(figsize=(10, 6))\n",
    "\n",
    "axes = figure.add_subplot(1, 1, 1)\n",
    "axes.bar(x, data, width, align=\"center\", color=\"darkslategray\")\n",
    "axes.set_xticks([0,1,2,3])\n",
    "axes.set_xticklabels(data.axes[0])\n",
    "axes.set_title( \"Distribution of Quarters\")\n",
    "axes.set_xlabel(\"Number of Quarter\")\n",
    "axes.set_ylabel( \"Percent of total\")\n",
    "axes.xaxis.grid(False)\n",
    "\n",
    "plt.show()\n",
    "plt.close()"
   ]
  },
  {
   "cell_type": "code",
   "execution_count": 18,
   "id": "03115c68",
   "metadata": {},
   "outputs": [
    {
     "data": {
      "image/png": "[encoded data removed]",
      "text/plain": [
       "<Figure size 720x432 with 1 Axes>"
      ]
     },
     "metadata": {
      "needs_background": "light"
     },
     "output_type": "display_data"
    }
   ],
   "source": [
    "data = df.MONTH_ID.value_counts(normalize=True).sort_index()\n",
    "x = range( len( data))\n",
    "width = 1/1.5\n",
    "\n",
    "figure = plt.figure(figsize=(10, 6))\n",
    "\n",
    "axes = figure.add_subplot(1, 1, 1)\n",
    "axes.bar(x, data, width, align=\"center\", color=\"darkslategray\")\n",
    "axes.set_xticks([0,1,2,3,4,5,6,7,8,9,10,11])\n",
    "axes.set_xticklabels(data.axes[0])\n",
    "axes.set_title( \"Distribution of Months\")\n",
    "axes.set_xlabel(\"Number of Month\")\n",
    "axes.set_ylabel( \"Percent of total\")\n",
    "axes.xaxis.grid(False)\n",
    "\n",
    "plt.show()\n",
    "plt.close()"
   ]
  },
  {
   "cell_type": "code",
   "execution_count": 19,
   "id": "f1799dc9",
   "metadata": {},
   "outputs": [
    {
     "data": {
      "image/png": "[encoded data removed]",
      "text/plain": [
       "<Figure size 720x432 with 1 Axes>"
      ]
     },
     "metadata": {
      "needs_background": "light"
     },
     "output_type": "display_data"
    }
   ],
   "source": [
    "data = df.YEAR_ID.value_counts().sort_index()\n",
    "x = range( len( data))\n",
    "width = 1/1.5\n",
    "\n",
    "figure = plt.figure(figsize=(10, 6))\n",
    "\n",
    "axes = figure.add_subplot(1, 1, 1)\n",
    "axes.bar(x, data, width, align=\"center\", color=\"darkslategray\")\n",
    "axes.set_xticks([0,1,2])\n",
    "axes.set_xticklabels(data.axes[0])\n",
    "axes.set_title( \"Orders by Year\")\n",
    "axes.set_xlabel(\"Year\")\n",
    "axes.set_ylabel( \"Orders\")\n",
    "axes.xaxis.grid(False)\n",
    "\n",
    "plt.show()\n",
    "plt.close()"
   ]
  },
  {
   "cell_type": "markdown",
   "id": "d33cc379",
   "metadata": {},
   "source": [
    "<br>\n",
    "From our cross-tabulation, it is clear that we do not have data for Q3 and Q4 of 2005. With this in mind, the Q4 sales over the year are very impressive, being higher that Q1 and Q2, and almost double those in Q3. October and November are the most profitable months, with December lagging behind, most likely due to the holidays. While we cannot inlcude 2005 in this trend yet, we do see a significant increase in sales from 2003 to 2004.\n",
    "\n",
    "Next we will look at the distribution of products that are sold.\n",
    "<br>\n",
    "<br>"
   ]
  },
  {
   "cell_type": "markdown",
   "id": "2895fec6",
   "metadata": {},
   "source": [
    "### Types of product sold<br>"
   ]
  },
  {
   "cell_type": "code",
   "execution_count": 20,
   "id": "f10811f9",
   "metadata": {},
   "outputs": [
    {
     "data": {
      "text/plain": [
       "Classic Cars        967\n",
       "Vintage Cars        607\n",
       "Motorcycles         331\n",
       "Planes              306\n",
       "Trucks and Buses    301\n",
       "Ships               234\n",
       "Trains               77\n",
       "Name: PRODUCTLINE, dtype: int64"
      ]
     },
     "execution_count": 20,
     "metadata": {},
     "output_type": "execute_result"
    }
   ],
   "source": [
    "df.PRODUCTLINE.value_counts()"
   ]
  },
  {
   "cell_type": "code",
   "execution_count": 21,
   "id": "4ad551c5",
   "metadata": {},
   "outputs": [
    {
     "data": {
      "image/png": "[encoded data removed]",
      "text/plain": [
       "<Figure size 720x432 with 1 Axes>"
      ]
     },
     "metadata": {
      "needs_background": "light"
     },
     "output_type": "display_data"
    }
   ],
   "source": [
    "data = df.PRODUCTLINE.value_counts(normalize=True)\n",
    "x = range( len( data))\n",
    "width = 1/1.5\n",
    "\n",
    "figure = plt.figure(figsize=(10, 6))\n",
    "\n",
    "axes = figure.add_subplot(1, 1, 1)\n",
    "axes.bar(x, data, width, align=\"center\", color=\"darkslategray\")\n",
    "axes.set_xticks([0,1,2,3,4,5,6])\n",
    "axes.set_xticklabels(data.axes[0])\n",
    "axes.set_title( \"Distribution of Product Orders\")\n",
    "axes.set_xlabel(\"Product\")\n",
    "axes.set_ylabel( \"Percent of total\")\n",
    "axes.xaxis.grid(False)\n",
    "\n",
    "plt.show()\n",
    "plt.close()"
   ]
  },
  {
   "cell_type": "markdown",
   "id": "def7ac18",
   "metadata": {},
   "source": [
    "<br>\n",
    "We observe that more than 50% of the orders are from Classic Cars and Vintage Cars. On the other hand, trains only make up less that 5% of orders, having sold just 77 times in the past two and a half years. The team should evaluate the relationship and benefits of keeping the train customers and analyze whether the same focus would be better suited for the 4 other categories.\n",
    "\n",
    "Finally, the last variable we will look at is Deal Size.\n",
    "<br>\n",
    "<br>"
   ]
  },
  {
   "cell_type": "markdown",
   "id": "d357f944",
   "metadata": {},
   "source": [
    "### Deal Size<br>"
   ]
  },
  {
   "cell_type": "code",
   "execution_count": 22,
   "id": "8584e826",
   "metadata": {},
   "outputs": [
    {
     "data": {
      "text/plain": [
       "Medium    1384\n",
       "Small     1282\n",
       "Large      157\n",
       "Name: DEALSIZE, dtype: int64"
      ]
     },
     "execution_count": 22,
     "metadata": {},
     "output_type": "execute_result"
    }
   ],
   "source": [
    "df.DEALSIZE.value_counts()"
   ]
  },
  {
   "cell_type": "code",
   "execution_count": 23,
   "id": "b906a016",
   "metadata": {},
   "outputs": [
    {
     "data": {
      "image/png": "[encoded data removed]",
      "text/plain": [
       "<Figure size 720x432 with 1 Axes>"
      ]
     },
     "metadata": {
      "needs_background": "light"
     },
     "output_type": "display_data"
    }
   ],
   "source": [
    "data = df.DEALSIZE.value_counts(normalize=True).sort_index()\n",
    "x = range( len( data))\n",
    "width = 1/1.5\n",
    "\n",
    "figure = plt.figure(figsize=(10, 6))\n",
    "\n",
    "axes = figure.add_subplot(1, 1, 1)\n",
    "axes.bar(x, data, width, align=\"center\", color=\"darkslategray\")\n",
    "axes.set_xticks([0,1,2])\n",
    "axes.set_xticklabels(data.axes[0])\n",
    "axes.set_title( \"Distribution of Deal Size\")\n",
    "axes.set_xlabel(\"Size\")\n",
    "axes.set_ylabel( \"Percent of total\")\n",
    "axes.xaxis.grid(False)\n",
    "\n",
    "plt.show()\n",
    "plt.close()"
   ]
  },
  {
   "cell_type": "markdown",
   "id": "4f8c1394",
   "metadata": {},
   "source": [
    "<br>\n",
    "The medium and small deals make up about 95% of the orders, while the large deals are only 5%. This is a slightly red flag that should be analyzed more carefully, as more orders should be expected from the larger deals than the smaller ones.<br><br>"
   ]
  },
  {
   "cell_type": "markdown",
   "id": "659a6f6c",
   "metadata": {},
   "source": [
    "# Deeper dive into sales"
   ]
  },
  {
   "cell_type": "markdown",
   "id": "3e36c1d4",
   "metadata": {},
   "source": [
    "### Sales vs. Price of each item"
   ]
  },
  {
   "cell_type": "markdown",
   "id": "c2f21f43",
   "metadata": {},
   "source": [
    "<br>\n",
    "We will use correlation coefficients to gauge the relationship between Sales and price of each item.\n",
    "<br><br>"
   ]
  },
  {
   "cell_type": "code",
   "execution_count": 24,
   "id": "9e1e0625",
   "metadata": {},
   "outputs": [
    {
     "name": "stdout",
     "output_type": "stream",
     "text": [
      "r   =  0.6578409283176943\n",
      "rho =  0.7876652102023145\n"
     ]
    }
   ],
   "source": [
    "print(\"r   = \", stats.pearsonr(df.SALES, df.PRICEEACH)[0])\n",
    "print(\"rho = \", stats.spearmanr(df.SALES, df.PRICEEACH)[0])"
   ]
  },
  {
   "cell_type": "code",
   "execution_count": 25,
   "id": "91bef321",
   "metadata": {},
   "outputs": [
    {
     "data": {
      "image/png": "[encoded data removed]",
      "text/plain": [
       "<Figure size 720x432 with 1 Axes>"
      ]
     },
     "metadata": {
      "needs_background": "light"
     },
     "output_type": "display_data"
    }
   ],
   "source": [
    "figure = plt.figure(figsize=(10, 6))\n",
    "\n",
    "axes = figure.add_subplot(1, 1, 1)\n",
    "axes.scatter(df.PRICEEACH, df.SALES, marker=\"o\", color=\"darkslategray\")\n",
    "\n",
    "axes.set_ylabel(\"Sales\")\n",
    "axes.set_xlabel(\"Price Each\")\n",
    "axes.set_title(\"Scatter Plot of Sales vs. Price Each\")\n",
    "\n",
    "plt.show()\n",
    "plt.close()"
   ]
  },
  {
   "cell_type": "markdown",
   "id": "3a817cd3",
   "metadata": {},
   "source": [
    "<br>There is a small correlation between the sales and the price of each item. The higher the price of the item, the higher the sale. This should make sense. However, companies are known to give incentives such as lower prices in order to boost sales. Could this strategy be used here? Is it used here already but is it backfiring? Let's find out.<br><br>"
   ]
  },
  {
   "cell_type": "markdown",
   "id": "bc6a0041",
   "metadata": {},
   "source": [
    "### Quantity Ordered vs Price per item"
   ]
  },
  {
   "cell_type": "code",
   "execution_count": 26,
   "id": "cb5bd302",
   "metadata": {},
   "outputs": [
    {
     "name": "stdout",
     "output_type": "stream",
     "text": [
      "r   =  0.005564033259239955\n",
      "rho =  0.0064830510970576745\n"
     ]
    }
   ],
   "source": [
    "print(\"r   = \", stats.pearsonr(df.QUANTITYORDERED, df.PRICEEACH)[0])\n",
    "print(\"rho = \", stats.spearmanr(df.QUANTITYORDERED, df.PRICEEACH)[0])"
   ]
  },
  {
   "cell_type": "markdown",
   "id": "aa7cc894",
   "metadata": {},
   "source": [
    "<br>The correlation between the quantity ordered and the price of each item doesn't tell us much, so we will need to create a more useful field.<br><br>"
   ]
  },
  {
   "cell_type": "markdown",
   "id": "a8683f89",
   "metadata": {},
   "source": [
    "### Creating a \"discount\" field<br><br>"
   ]
  },
  {
   "cell_type": "code",
   "execution_count": 27,
   "id": "6d1f5442",
   "metadata": {},
   "outputs": [],
   "source": [
    "df['DISCOUNT'] = (df.MSRP-df.PRICEEACH)/df.MSRP"
   ]
  },
  {
   "cell_type": "markdown",
   "id": "ac01158f",
   "metadata": {},
   "source": [
    "<br>The DISCOUNT variable now describes the percent discount (or upsell) that the company is giving the customers from the MSRP. The higher the value, the higher the discount the customer receives.<br><br>"
   ]
  },
  {
   "cell_type": "code",
   "execution_count": 28,
   "id": "500439e8",
   "metadata": {
    "scrolled": true
   },
   "outputs": [
    {
     "data": {
      "text/html": [
       "<div>\n",
       "<style scoped>\n",
       "    .dataframe tbody tr th:only-of-type {\n",
       "        vertical-align: middle;\n",
       "    }\n",
       "\n",
       "    .dataframe tbody tr th {\n",
       "        vertical-align: top;\n",
       "    }\n",
       "\n",
       "    .dataframe thead th {\n",
       "        text-align: right;\n",
       "    }\n",
       "</style>\n",
       "<table border=\"1\" class=\"dataframe\">\n",
       "  <thead>\n",
       "    <tr style=\"text-align: right;\">\n",
       "      <th></th>\n",
       "      <th>ORDERNUMBER</th>\n",
       "      <th>QUANTITYORDERED</th>\n",
       "      <th>PRICEEACH</th>\n",
       "      <th>ORDERLINENUMBER</th>\n",
       "      <th>SALES</th>\n",
       "      <th>ORDERDATE</th>\n",
       "      <th>STATUS</th>\n",
       "      <th>QTR_ID</th>\n",
       "      <th>MONTH_ID</th>\n",
       "      <th>YEAR_ID</th>\n",
       "      <th>...</th>\n",
       "      <th>ADDRESSLINE2</th>\n",
       "      <th>CITY</th>\n",
       "      <th>STATE</th>\n",
       "      <th>POSTALCODE</th>\n",
       "      <th>COUNTRY</th>\n",
       "      <th>TERRITORY</th>\n",
       "      <th>CONTACTLASTNAME</th>\n",
       "      <th>CONTACTFIRSTNAME</th>\n",
       "      <th>DEALSIZE</th>\n",
       "      <th>DISCOUNT</th>\n",
       "    </tr>\n",
       "  </thead>\n",
       "  <tbody>\n",
       "    <tr>\n",
       "      <th>0</th>\n",
       "      <td>10107.0</td>\n",
       "      <td>30.0</td>\n",
       "      <td>95.70</td>\n",
       "      <td>2.0</td>\n",
       "      <td>2871.00</td>\n",
       "      <td>2003-02-24</td>\n",
       "      <td>Shipped</td>\n",
       "      <td>1.0</td>\n",
       "      <td>2.0</td>\n",
       "      <td>2003.0</td>\n",
       "      <td>...</td>\n",
       "      <td>NaN</td>\n",
       "      <td>NYC</td>\n",
       "      <td>NY</td>\n",
       "      <td>10022.0</td>\n",
       "      <td>USA</td>\n",
       "      <td>NA</td>\n",
       "      <td>Yu</td>\n",
       "      <td>Kwai</td>\n",
       "      <td>Small</td>\n",
       "      <td>-0.007368</td>\n",
       "    </tr>\n",
       "    <tr>\n",
       "      <th>1</th>\n",
       "      <td>10121.0</td>\n",
       "      <td>34.0</td>\n",
       "      <td>81.35</td>\n",
       "      <td>5.0</td>\n",
       "      <td>2765.90</td>\n",
       "      <td>2003-05-07</td>\n",
       "      <td>Shipped</td>\n",
       "      <td>2.0</td>\n",
       "      <td>5.0</td>\n",
       "      <td>2003.0</td>\n",
       "      <td>...</td>\n",
       "      <td>NaN</td>\n",
       "      <td>Reims</td>\n",
       "      <td>NaN</td>\n",
       "      <td>51100.0</td>\n",
       "      <td>France</td>\n",
       "      <td>EMEA</td>\n",
       "      <td>Henriot</td>\n",
       "      <td>Paul</td>\n",
       "      <td>Small</td>\n",
       "      <td>0.143684</td>\n",
       "    </tr>\n",
       "    <tr>\n",
       "      <th>2</th>\n",
       "      <td>10134.0</td>\n",
       "      <td>41.0</td>\n",
       "      <td>94.74</td>\n",
       "      <td>2.0</td>\n",
       "      <td>3884.34</td>\n",
       "      <td>2003-07-01</td>\n",
       "      <td>Shipped</td>\n",
       "      <td>3.0</td>\n",
       "      <td>7.0</td>\n",
       "      <td>2003.0</td>\n",
       "      <td>...</td>\n",
       "      <td>NaN</td>\n",
       "      <td>Paris</td>\n",
       "      <td>NaN</td>\n",
       "      <td>75508.0</td>\n",
       "      <td>France</td>\n",
       "      <td>EMEA</td>\n",
       "      <td>Da Cunha</td>\n",
       "      <td>Daniel</td>\n",
       "      <td>Medium</td>\n",
       "      <td>0.002737</td>\n",
       "    </tr>\n",
       "    <tr>\n",
       "      <th>3</th>\n",
       "      <td>10145.0</td>\n",
       "      <td>45.0</td>\n",
       "      <td>83.26</td>\n",
       "      <td>6.0</td>\n",
       "      <td>3746.70</td>\n",
       "      <td>2003-08-25</td>\n",
       "      <td>Shipped</td>\n",
       "      <td>3.0</td>\n",
       "      <td>8.0</td>\n",
       "      <td>2003.0</td>\n",
       "      <td>...</td>\n",
       "      <td>NaN</td>\n",
       "      <td>Pasadena</td>\n",
       "      <td>CA</td>\n",
       "      <td>90003.0</td>\n",
       "      <td>USA</td>\n",
       "      <td>NA</td>\n",
       "      <td>Young</td>\n",
       "      <td>Julie</td>\n",
       "      <td>Medium</td>\n",
       "      <td>0.123579</td>\n",
       "    </tr>\n",
       "    <tr>\n",
       "      <th>4</th>\n",
       "      <td>10159.0</td>\n",
       "      <td>49.0</td>\n",
       "      <td>100.00</td>\n",
       "      <td>14.0</td>\n",
       "      <td>5205.27</td>\n",
       "      <td>2003-10-10</td>\n",
       "      <td>Shipped</td>\n",
       "      <td>4.0</td>\n",
       "      <td>10.0</td>\n",
       "      <td>2003.0</td>\n",
       "      <td>...</td>\n",
       "      <td>NaN</td>\n",
       "      <td>San Francisco</td>\n",
       "      <td>CA</td>\n",
       "      <td>NaN</td>\n",
       "      <td>USA</td>\n",
       "      <td>NA</td>\n",
       "      <td>Brown</td>\n",
       "      <td>Julie</td>\n",
       "      <td>Medium</td>\n",
       "      <td>-0.052632</td>\n",
       "    </tr>\n",
       "  </tbody>\n",
       "</table>\n",
       "<p>5 rows × 26 columns</p>\n",
       "</div>"
      ],
      "text/plain": [
       "   ORDERNUMBER  QUANTITYORDERED  PRICEEACH  ORDERLINENUMBER    SALES  \\\n",
       "0      10107.0             30.0      95.70              2.0  2871.00   \n",
       "1      10121.0             34.0      81.35              5.0  2765.90   \n",
       "2      10134.0             41.0      94.74              2.0  3884.34   \n",
       "3      10145.0             45.0      83.26              6.0  3746.70   \n",
       "4      10159.0             49.0     100.00             14.0  5205.27   \n",
       "\n",
       "   ORDERDATE   STATUS  QTR_ID  MONTH_ID  YEAR_ID  ... ADDRESSLINE2  \\\n",
       "0 2003-02-24  Shipped     1.0       2.0   2003.0  ...          NaN   \n",
       "1 2003-05-07  Shipped     2.0       5.0   2003.0  ...          NaN   \n",
       "2 2003-07-01  Shipped     3.0       7.0   2003.0  ...          NaN   \n",
       "3 2003-08-25  Shipped     3.0       8.0   2003.0  ...          NaN   \n",
       "4 2003-10-10  Shipped     4.0      10.0   2003.0  ...          NaN   \n",
       "\n",
       "            CITY STATE POSTALCODE COUNTRY TERRITORY CONTACTLASTNAME  \\\n",
       "0            NYC    NY    10022.0     USA        NA              Yu   \n",
       "1          Reims   NaN    51100.0  France      EMEA         Henriot   \n",
       "2          Paris   NaN    75508.0  France      EMEA        Da Cunha   \n",
       "3       Pasadena    CA    90003.0     USA        NA           Young   \n",
       "4  San Francisco    CA        NaN     USA        NA           Brown   \n",
       "\n",
       "  CONTACTFIRSTNAME DEALSIZE  DISCOUNT  \n",
       "0             Kwai    Small -0.007368  \n",
       "1             Paul    Small  0.143684  \n",
       "2           Daniel   Medium  0.002737  \n",
       "3            Julie   Medium  0.123579  \n",
       "4            Julie   Medium -0.052632  \n",
       "\n",
       "[5 rows x 26 columns]"
      ]
     },
     "execution_count": 28,
     "metadata": {},
     "output_type": "execute_result"
    }
   ],
   "source": [
    "df.head()"
   ]
  },
  {
   "cell_type": "markdown",
   "id": "b96abe24",
   "metadata": {},
   "source": [
    "### <br>Discount<br><br>"
   ]
  },
  {
   "cell_type": "code",
   "execution_count": 29,
   "id": "92931d3e",
   "metadata": {},
   "outputs": [
    {
     "data": {
      "text/plain": [
       "count    2823.000000\n",
       "mean        0.095141\n",
       "std         0.270089\n",
       "min        -2.030303\n",
       "25%        -0.027614\n",
       "50%         0.118500\n",
       "75%         0.242424\n",
       "max         0.771338\n",
       "Name: DISCOUNT, dtype: float64"
      ]
     },
     "execution_count": 29,
     "metadata": {},
     "output_type": "execute_result"
    }
   ],
   "source": [
    "df.DISCOUNT.describe()"
   ]
  },
  {
   "cell_type": "code",
   "execution_count": 30,
   "id": "65ec6452",
   "metadata": {},
   "outputs": [
    {
     "data": {
      "image/png": "[encoded data removed]",
      "text/plain": [
       "<Figure size 720x432 with 1 Axes>"
      ]
     },
     "metadata": {
      "needs_background": "light"
     },
     "output_type": "display_data"
    }
   ],
   "source": [
    "figure = plt.figure(figsize=(10, 6))\n",
    "\n",
    "axes = figure.add_subplot(1, 1, 1)\n",
    "axes.hist(df.DISCOUNT, color=\"darkslategray\")\n",
    "axes.set_title(\"Distribution of Discount\")\n",
    "axes.set_xlabel(\"Discount\")\n",
    "axes.set_ylabel(\"Count\")\n",
    "\n",
    "plt.show()\n",
    "plt.close()"
   ]
  },
  {
   "cell_type": "code",
   "execution_count": 31,
   "id": "b02fe526",
   "metadata": {},
   "outputs": [
    {
     "name": "stdout",
     "output_type": "stream",
     "text": [
      "r   =  0.02849770121209785\n",
      "rho =  0.027321074397041085\n"
     ]
    }
   ],
   "source": [
    "print(\"r   = \", stats.pearsonr(df.QUANTITYORDERED, df.DISCOUNT)[0])\n",
    "print(\"rho = \", stats.spearmanr(df.QUANTITYORDERED, df.DISCOUNT)[0])"
   ]
  },
  {
   "cell_type": "markdown",
   "id": "bb3365d3",
   "metadata": {},
   "source": [
    "<br>We still do not see a signifcant effect of the quantity ordered on the amount of discount that a customer receives. However, we DO see that some customers are getting a massive discount, with values as high as 77% off. On the other hand, others are getting charged twice as much for some products. Clearly this is not an effect of the quantity of product orders. Could be favoritism towards the size of the deal?<br><br>"
   ]
  },
  {
   "cell_type": "markdown",
   "id": "c8ada708",
   "metadata": {},
   "source": [
    "### Discount by Deal Size"
   ]
  },
  {
   "cell_type": "code",
   "execution_count": 32,
   "id": "033a8ace",
   "metadata": {},
   "outputs": [],
   "source": [
    "#create describe function for categories\n",
    "def describe_by_category(data, numeric, categorical, transpose=False):\n",
    "    grouped = data.groupby(categorical)\n",
    "    grouped_y = grouped[numeric].describe()\n",
    "    if transpose:\n",
    "        print(grouped_y.transpose())\n",
    "    else:\n",
    "        print(grouped_y)"
   ]
  },
  {
   "cell_type": "code",
   "execution_count": 33,
   "id": "07f561e8",
   "metadata": {},
   "outputs": [
    {
     "name": "stdout",
     "output_type": "stream",
     "text": [
      "DEALSIZE       Large       Medium        Small\n",
      "count     157.000000  1384.000000  1282.000000\n",
      "mean        0.282681     0.108357     0.057905\n",
      "std         0.383636     0.282505     0.225230\n",
      "min        -2.030303    -1.857143    -2.030303\n",
      "25%         0.290780     0.000000    -0.053940\n",
      "50%         0.404762     0.152542     0.054373\n",
      "75%         0.481865     0.290780     0.156702\n",
      "max         0.532710     0.641098     0.771338\n"
     ]
    }
   ],
   "source": [
    "describe_by_category(df, \"DISCOUNT\", \"DEALSIZE\", transpose=True)"
   ]
  },
  {
   "cell_type": "code",
   "execution_count": 34,
   "id": "8cd98cc3",
   "metadata": {},
   "outputs": [
    {
     "data": {
      "image/png": "[encoded data removed]",
      "text/plain": [
       "<Figure size 1440x432 with 3 Axes>"
      ]
     },
     "metadata": {
      "needs_background": "light"
     },
     "output_type": "display_data"
    }
   ],
   "source": [
    "grouped =df.groupby(\"DEALSIZE\")\n",
    "\n",
    "figure = plt.figure(figsize=(20, 6))\n",
    "\n",
    "axes = figure.add_subplot(1, 3, 1)\n",
    "axes.hist(grouped[\"DISCOUNT\"].get_group(\"Small\"),color=\"darkslategray\",density=True)\n",
    "axes.set_title(\"Small DEALSIZE Discount Distribution\")\n",
    "axes.set_xlabel(\"Discount\")\n",
    "\n",
    "axes = figure.add_subplot(1, 3, 2)\n",
    "axes.hist(grouped[\"DISCOUNT\"].get_group(\"Medium\"),color=\"darkslategray\",density=True)\n",
    "axes.set_title(\"Medium DEALSIZDE Discount Distribution\")\n",
    "axes.set_xlabel(\"Discount\")\n",
    "\n",
    "axes = figure.add_subplot(1, 3, 3)\n",
    "axes.hist(grouped[\"DISCOUNT\"].get_group(\"Large\"),color=\"darkslategray\",density=True)\n",
    "axes.set_title(\"Large DEALSIZE Discount Distribution\")\n",
    "axes.set_xlabel(\"Discount\")\n",
    "\n",
    "\n",
    "plt.show()\n",
    "plt.close()"
   ]
  },
  {
   "cell_type": "markdown",
   "id": "d3cf18ec",
   "metadata": {},
   "source": [
    "<br>Bingo. From that statistics, we can clearly see that the large Deal Sizes are getting an average discount of 28%, while the medium and small deals are getting 11% and 5% respectively. The distributions also indicate this, showing the large Deal Sizes getting mostly discounts while the small Deal Sizes either not getting discounts or paying slightly more. The question now becomes whether or not these discounts are of any use to the company in terms of sales. <br><br>"
   ]
  },
  {
   "cell_type": "markdown",
   "id": "0df3668d",
   "metadata": {},
   "source": [
    "### Sales vs Deal Size<br><br>"
   ]
  },
  {
   "cell_type": "code",
   "execution_count": 35,
   "id": "fa66295e",
   "metadata": {},
   "outputs": [
    {
     "name": "stdout",
     "output_type": "stream",
     "text": [
      "DEALSIZE         Large       Medium        Small\n",
      "count       157.000000  1384.000000  1282.000000\n",
      "mean       8293.753248  4398.433699  2061.682800\n",
      "std        1294.739895  1047.090148   577.183322\n",
      "min        7016.310000  3002.400000   482.130000\n",
      "25%        7329.060000  3516.285000  1638.335000\n",
      "50%        8008.560000  4162.750000  2113.975000\n",
      "75%        8754.690000  5176.410000  2544.592500\n",
      "max       14082.800000  6996.420000  2999.970000\n"
     ]
    }
   ],
   "source": [
    "describe_by_category(df, \"SALES\", \"DEALSIZE\", transpose=True)"
   ]
  },
  {
   "cell_type": "code",
   "execution_count": 36,
   "id": "1b71647d",
   "metadata": {
    "scrolled": false
   },
   "outputs": [
    {
     "data": {
      "image/png": "[encoded data removed]",
      "text/plain": [
       "<Figure size 1440x432 with 3 Axes>"
      ]
     },
     "metadata": {
      "needs_background": "light"
     },
     "output_type": "display_data"
    }
   ],
   "source": [
    "grouped =df.groupby(\"DEALSIZE\")\n",
    "\n",
    "figure = plt.figure(figsize=(20, 6))\n",
    "\n",
    "axes = figure.add_subplot(1, 3, 1)\n",
    "axes.hist(grouped[\"SALES\"].get_group(\"Small\"),color=\"darkslategray\",density=True)\n",
    "axes.set_title(\"Small DEALSIZE Sales Distribution\")\n",
    "axes.set_xlabel(\"Sales\")\n",
    "axes.set_xlim((0,14000))\n",
    "axes.set_ylabel(\"Percent of total sales\")\n",
    "\n",
    "axes = figure.add_subplot(1, 3, 2)\n",
    "axes.hist(grouped[\"SALES\"].get_group(\"Medium\"),color=\"darkslategray\",density=True)\n",
    "axes.set_title(\"Medium DEALSIZDE Sales Distribution\")\n",
    "axes.set_xlabel(\"Sales\")\n",
    "axes.set_xlim((0,14000))\n",
    "\n",
    "axes = figure.add_subplot(1, 3, 3)\n",
    "axes.hist(grouped[\"SALES\"].get_group(\"Large\"),color=\"darkslategray\",density=True)\n",
    "axes.set_title(\"Large DEALSIZE Sales Distribution\")\n",
    "axes.set_xlabel(\"Sales\")\n",
    "axes.set_xlim((0,14000))\n",
    "\n",
    "\n",
    "\n",
    "plt.show()\n",
    "plt.close()"
   ]
  },
  {
   "cell_type": "markdown",
   "id": "433a0276",
   "metadata": {},
   "source": [
    "<br>There are several insights that can be learned from the statistics and distributions. Looking at the averages, we can see that the sales double with each increase in deal size category. Small deals buy an average of \\\\$2061, Mediums buy an average of \\\\$4398, and Larges buy an average of \\\\$8294. Additionally, not easily seen in the numbers but shown beautifully in the distributions is the clear cut-off for sales and deal sizes. Small deals are only up to \\\\$3000 in sales, Medium deals are from \\\\$3000 to \\\\$7000, and Large deals are above \\\\$7000. This can now be interpreted as an artifical cut-off designed maybe by the database manager to categorize the sales, but this was not apparent from the initial analysis of the data. <br><br>"
   ]
  },
  {
   "cell_type": "markdown",
   "id": "d88ec973",
   "metadata": {},
   "source": [
    "In the future, more analysis can be performed to find insights and trends by looking at other factors. Focusing on the order status could lead to some hints on how to decrease the number of disputed or cancelled orders. By looking at the quantity ordered or sales for each territory/country, one could get a sense of where to focus the company's effors, and where it is best to reevaluate the relationships. Finally, one could use regresison to predict sales, orders, and quantity based on several factors like country, date and time, and deal size."
   ]
  }
 ],
 "metadata": {
  "kernelspec": {
   "display_name": "Python 3 (ipykernel)",
   "language": "python",
   "name": "python3"
  },
  "language_info": {
   "codemirror_mode": {
    "name": "ipython",
    "version": 3
   },
   "file_extension": ".py",
   "mimetype": "text/x-python",
   "name": "python",
   "nbconvert_exporter": "python",
   "pygments_lexer": "ipython3",
   "version": "3.9.7"
  }
 },
 "nbformat": 4,
 "nbformat_minor": 5
}
